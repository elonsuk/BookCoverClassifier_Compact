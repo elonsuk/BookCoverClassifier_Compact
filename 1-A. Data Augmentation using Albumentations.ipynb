{
 "cells": [
  {
   "cell_type": "code",
   "execution_count": 1,
   "id": "8f828c5d",
   "metadata": {},
   "outputs": [],
   "source": [
    "import albumentations as A\n",
    "from PIL import Image\n",
    "import os\n",
    "import numpy as np\n",
    "import cv2\n",
    "from tqdm import tqdm"
   ]
  },
  {
   "cell_type": "code",
   "execution_count": 2,
   "id": "3401db86",
   "metadata": {},
   "outputs": [],
   "source": [
    "IMAGE_PATH = r\"C:\\Users\\offco\\Documents\\Dev_Projects\\BookCoverClassifier_Compact\\Datasets\\Cover_Images\"\n",
    "AUGMENT_SAVE_PATH = r\"C:\\Users\\offco\\Documents\\Dev_Projects\\BookCoverClassifier_Compact\\Datasets\\Augment_Images\"\n",
    "AUGMENT_COUNT = 500\n",
    "N = 256"
   ]
  },
  {
   "cell_type": "code",
   "execution_count": 3,
   "id": "c3e4ffc9",
   "metadata": {},
   "outputs": [
    {
     "name": "stderr",
     "output_type": "stream",
     "text": [
      "100%|███████████████████████████████████████████████████████████████████████████████| 12/12 [1:24:42<00:00, 423.50s/it]\n"
     ]
    }
   ],
   "source": [
    "transform = A.Compose([\n",
    "    A.LongestMaxSize(max_size=N, interpolation=1),\n",
    "    A.PadIfNeeded(min_height=N, min_width=N, border_mode=0, value=(0,0,0)),\n",
    "    A.ShiftScaleRotate(shift_limit=0.05, scale_limit=0.05, rotate_limit=45, p=0.75, border_mode=cv2.BORDER_CONSTANT),\n",
    "    A.OneOf([\n",
    "        A.HorizontalFlip(p=1),\n",
    "        A.VerticalFlip(p=1)\n",
    "    ], p=1),\n",
    "    A.RGBShift(r_shift_limit=10, g_shift_limit=10, b_shift_limit=10),\n",
    "    A.OneOf([\n",
    "        A.Blur(p=1),\n",
    "        A.OpticalDistortion(p=1),\n",
    "        A.GaussNoise(p=1)\n",
    "    ], p=1)\n",
    "])\n",
    "\n",
    "for folder in tqdm(os.listdir(IMAGE_PATH)):\n",
    "    count = 0\n",
    "    for image_name in os.listdir(f\"{IMAGE_PATH}\\{folder}\"):\n",
    "        image = Image.open(f\"{IMAGE_PATH}\\{folder}\\{image_name}\")\n",
    "        image = np.array(image)\n",
    "\n",
    "        SAVE = f\"{AUGMENT_SAVE_PATH}\\{folder}\"\n",
    "\n",
    "        try: os.mkdir(SAVE)\n",
    "        except FileExistsError: pass\n",
    "        \n",
    "        try:\n",
    "            for i in range(AUGMENT_COUNT):\n",
    "                aug = transform(image=image)\n",
    "                aug_img = Image.fromarray(aug[\"image\"])\n",
    "                aug_img.save(f\"{SAVE}\\img{count}-{i}.png\")\n",
    "        except:\n",
    "            continue\n",
    "        \n",
    "        count += 1"
   ]
  },
  {
   "cell_type": "code",
   "execution_count": 4,
   "id": "9ed37e4a",
   "metadata": {},
   "outputs": [
    {
     "data": {
      "text/plain": [
       "['A Passage to India',\n",
       " 'Anna Karenina',\n",
       " 'Beloved',\n",
       " 'Don Quixote',\n",
       " 'Invisible Man',\n",
       " 'Jane Eyre',\n",
       " 'Mrs. Dalloway',\n",
       " 'One Hundred Years of Solitude',\n",
       " 'The Color Purple',\n",
       " 'The Great Gatsby',\n",
       " 'Things Fall Apart',\n",
       " 'To Kill a Mockingbird']"
      ]
     },
     "execution_count": 4,
     "metadata": {},
     "output_type": "execute_result"
    }
   ],
   "source": [
    "os.listdir(IMAGE_PATH)"
   ]
  },
  {
   "cell_type": "code",
   "execution_count": 5,
   "id": "b589831b",
   "metadata": {},
   "outputs": [
    {
     "data": {
      "text/plain": [
       "12"
      ]
     },
     "execution_count": 5,
     "metadata": {},
     "output_type": "execute_result"
    }
   ],
   "source": [
    "len(os.listdir(IMAGE_PATH))"
   ]
  },
  {
   "cell_type": "code",
   "execution_count": null,
   "id": "79f9dd14",
   "metadata": {},
   "outputs": [],
   "source": []
  }
 ],
 "metadata": {
  "kernelspec": {
   "display_name": "Python 3 (ipykernel)",
   "language": "python",
   "name": "python3"
  },
  "language_info": {
   "codemirror_mode": {
    "name": "ipython",
    "version": 3
   },
   "file_extension": ".py",
   "mimetype": "text/x-python",
   "name": "python",
   "nbconvert_exporter": "python",
   "pygments_lexer": "ipython3",
   "version": "3.9.12"
  }
 },
 "nbformat": 4,
 "nbformat_minor": 5
}
