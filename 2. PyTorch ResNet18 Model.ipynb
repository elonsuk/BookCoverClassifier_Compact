{
 "cells": [
  {
   "cell_type": "code",
   "execution_count": 1,
   "id": "d33538e1",
   "metadata": {},
   "outputs": [],
   "source": [
    "import torchvision\n",
    "import torch\n",
    "import torchvision.transforms as transforms\n",
    "import os\n",
    "import numpy as np\n",
    "import matplotlib.pyplot as plt\n",
    "from tqdm import tqdm"
   ]
  },
  {
   "cell_type": "code",
   "execution_count": 2,
   "id": "d9eb06a3",
   "metadata": {},
   "outputs": [],
   "source": [
    "DATA_PATH = r\"C:\\Users\\offco\\Documents\\Dev_Projects\\BookCoverClassifier_Compact\\Datasets\\Augment\"\n",
    "CHECKPOINT_PATH = r\"C:\\Users\\offco\\Documents\\Dev_Projects\\BookCoverClassifier_Compact\\Models\\PyTorch ResNet18 Model\\model_best_checkpoint.pth.tar\"\n",
    "ONNX_SAVE_PATH = r\"C:\\Users\\offco\\Documents\\Dev_Projects\\BookCoverClassifier_Compact\\Models\\Quantized Model\\pytorch_resnet18.onnx\"\n",
    "NUM_CLASSES = 12\n",
    "TRAIN_EPOCHS = 30"
   ]
  },
  {
   "cell_type": "code",
   "execution_count": 3,
   "id": "1714a7c7",
   "metadata": {},
   "outputs": [],
   "source": [
    "mean = [0.3852, 0.3434, 0.3142]\n",
    "std = [0.3134, 0.2889, 0.2685]\n",
    "\n",
    "transform = transforms.Compose([\n",
    "    transforms.ToTensor(),\n",
    "    transforms.Normalize(torch.Tensor(mean), torch.Tensor(std)),\n",
    "])\n",
    "\n",
    "data = torchvision.datasets.ImageFolder(root=DATA_PATH, transform=transform)\n",
    "\n",
    "train_size = int(0.85 * len(data))\n",
    "test_size = len(data) - train_size\n",
    "train_data, test_data = torch.utils.data.random_split(data, [train_size, test_size])"
   ]
  },
  {
   "cell_type": "code",
   "execution_count": 4,
   "id": "ec823c24",
   "metadata": {},
   "outputs": [],
   "source": [
    "train_loader = torch.utils.data.DataLoader(train_data, batch_size=32, shuffle=True, num_workers=4, pin_memory=True)\n",
    "test_loader = torch.utils.data.DataLoader(test_data, batch_size=32, shuffle=False, num_workers=4, pin_memory=True)"
   ]
  },
  {
   "cell_type": "code",
   "execution_count": 5,
   "id": "782d0e3c",
   "metadata": {},
   "outputs": [],
   "source": [
    "import torchvision.models as models\n",
    "import torch.nn as nn\n",
    "import torch.optim as optim"
   ]
  },
  {
   "cell_type": "code",
   "execution_count": 6,
   "id": "b34ecd41",
   "metadata": {},
   "outputs": [],
   "source": [
    "def set_device():\n",
    "    if torch.cuda.is_available(): dev = 'cuda:0'\n",
    "    else: dev = 'cpu'\n",
    "    \n",
    "    return torch.device(dev)\n",
    "\n",
    "def evaluate_model(model, test_loader):\n",
    "    model.eval()\n",
    "    \n",
    "    predicted_correctly_on_epoch = 0\n",
    "    total = 0\n",
    "    \n",
    "    device = set_device()\n",
    "    \n",
    "    with torch.no_grad():\n",
    "        for data in test_loader:\n",
    "            images, labels = data\n",
    "            images, labels = images.to(device), labels.to(device)\n",
    "            total += labels.size(0)\n",
    "            \n",
    "            outputs = model(images)\n",
    "            _, predicted = torch.max(outputs.data, 1)\n",
    "            \n",
    "            predicted_correctly_on_epoch += (predicted == labels).sum().item()\n",
    "    \n",
    "    epoch_acc = 100.0 * (predicted_correctly_on_epoch / total)\n",
    "    print(f\"Testing dataset: {int(predicted_correctly_on_epoch)} out of {total} correct. Accuracy: {round(epoch_acc, 3)}\")\n",
    "    \n",
    "    return epoch_acc\n",
    "\n",
    "def save_checkpoint(model, epoch, optimizer, best_acc):\n",
    "    state = {\n",
    "        'epoch': epoch+1,\n",
    "        'model': model.state_dict(),\n",
    "        'best accuracy': best_acc,\n",
    "        'optimizer': optimizer.state_dict()\n",
    "    }\n",
    "    \n",
    "    torch.save(state, CHECKPOINT_PATH)"
   ]
  },
  {
   "cell_type": "code",
   "execution_count": 7,
   "id": "d311aa6b",
   "metadata": {},
   "outputs": [],
   "source": [
    "def train_nn(model, train_loader, test_loader, criterion, optimizer, n_epochs):\n",
    "    device = set_device()\n",
    "    best_acc = 0\n",
    "    \n",
    "    for epoch in tqdm(range(n_epochs)):\n",
    "        print(f\"Epoch: {epoch+1}\")\n",
    "        model.train()\n",
    "        running_loss = 0.0\n",
    "        running_correct = 0.0\n",
    "        total = 0\n",
    "        \n",
    "        for data in train_loader:\n",
    "            images, labels = data\n",
    "            images, labels = images.to(device), labels.to(device)\n",
    "            total += labels.size(0)\n",
    "            \n",
    "            optimizer.zero_grad()\n",
    "            \n",
    "            outputs = model(images)\n",
    "            _, predicted = torch.max(outputs.data, 1)\n",
    "            \n",
    "            loss = criterion(outputs, labels)\n",
    "            loss.backward()\n",
    "            \n",
    "            optimizer.step()\n",
    "            \n",
    "            running_loss += loss.item()\n",
    "            running_correct += (labels == predicted).sum().item()\n",
    "        \n",
    "        epoch_loss = running_loss / len(train_loader)\n",
    "        epoch_acc = 100.00 * (running_correct / total)\n",
    "        \n",
    "        print(f\"Training dataset: {int(running_correct)} out of {total} correct. Accuracy: {round(epoch_acc, 3)}. Loss: {round(epoch_loss, 3)}\")\n",
    "        \n",
    "        test_acc = evaluate_model(model, test_loader)\n",
    "        \n",
    "        if (test_acc > best_acc):\n",
    "            best_acc = test_acc\n",
    "            save_checkpoint(model, epoch, optimizer, best_acc)\n",
    "        \n",
    "    print(\"Finished\")"
   ]
  },
  {
   "cell_type": "code",
   "execution_count": 8,
   "id": "1611ea0b",
   "metadata": {},
   "outputs": [],
   "source": [
    "resnet18 = models.resnet18(pretrained=False)\n",
    "num_features = resnet18.fc.in_features\n",
    "resnet18.fc = nn.Linear(num_features, NUM_CLASSES)\n",
    "\n",
    "device = set_device()\n",
    "resnet18 = resnet18.to(device)\n",
    "\n",
    "loss_func = nn.CrossEntropyLoss()\n",
    "optimizer = optim.SGD(resnet18.parameters(), lr=0.01, momentum=0.9, weight_decay=0.003)"
   ]
  },
  {
   "cell_type": "code",
   "execution_count": 9,
   "id": "255cde5d",
   "metadata": {},
   "outputs": [
    {
     "name": "stderr",
     "output_type": "stream",
     "text": [
      "\r",
      "  0%|                                                                                           | 0/30 [00:00<?, ?it/s]"
     ]
    },
    {
     "name": "stdout",
     "output_type": "stream",
     "text": [
      "Epoch: 1\n",
      "Training dataset: 4195 out of 15385 correct. Accuracy: 27.267. Loss: 2.178\n"
     ]
    },
    {
     "name": "stderr",
     "output_type": "stream",
     "text": [
      "\r",
      "  3%|██▊                                                                                | 1/30 [00:43<20:51, 43.16s/it]"
     ]
    },
    {
     "name": "stdout",
     "output_type": "stream",
     "text": [
      "Testing dataset: 993 out of 2715 correct. Accuracy: 36.575\n",
      "Epoch: 2\n",
      "Training dataset: 6777 out of 15385 correct. Accuracy: 44.049. Loss: 1.64\n"
     ]
    },
    {
     "name": "stderr",
     "output_type": "stream",
     "text": [
      "\r",
      "  7%|█████▌                                                                             | 2/30 [01:22<19:08, 41.04s/it]"
     ]
    },
    {
     "name": "stdout",
     "output_type": "stream",
     "text": [
      "Testing dataset: 1375 out of 2715 correct. Accuracy: 50.645\n",
      "Epoch: 3\n",
      "Training dataset: 8747 out of 15385 correct. Accuracy: 56.854. Loss: 1.278\n"
     ]
    },
    {
     "name": "stderr",
     "output_type": "stream",
     "text": [
      "\r",
      " 10%|████████▎                                                                          | 3/30 [02:02<18:13, 40.50s/it]"
     ]
    },
    {
     "name": "stdout",
     "output_type": "stream",
     "text": [
      "Testing dataset: 1516 out of 2715 correct. Accuracy: 55.838\n",
      "Epoch: 4\n",
      "Training dataset: 10544 out of 15385 correct. Accuracy: 68.534. Loss: 0.946\n"
     ]
    },
    {
     "name": "stderr",
     "output_type": "stream",
     "text": [
      "\r",
      " 13%|███████████                                                                        | 4/30 [02:42<17:27, 40.29s/it]"
     ]
    },
    {
     "name": "stdout",
     "output_type": "stream",
     "text": [
      "Testing dataset: 1836 out of 2715 correct. Accuracy: 67.624\n",
      "Epoch: 5\n",
      "Training dataset: 11855 out of 15385 correct. Accuracy: 77.056. Loss: 0.7\n"
     ]
    },
    {
     "name": "stderr",
     "output_type": "stream",
     "text": [
      "\r",
      " 17%|█████████████▊                                                                     | 5/30 [03:22<16:42, 40.11s/it]"
     ]
    },
    {
     "name": "stdout",
     "output_type": "stream",
     "text": [
      "Testing dataset: 2076 out of 2715 correct. Accuracy: 76.464\n",
      "Epoch: 6\n",
      "Training dataset: 12781 out of 15385 correct. Accuracy: 83.074. Loss: 0.526\n"
     ]
    },
    {
     "name": "stderr",
     "output_type": "stream",
     "text": [
      "\r",
      " 20%|████████████████▌                                                                  | 6/30 [04:02<16:01, 40.06s/it]"
     ]
    },
    {
     "name": "stdout",
     "output_type": "stream",
     "text": [
      "Testing dataset: 2269 out of 2715 correct. Accuracy: 83.573\n",
      "Epoch: 7\n",
      "Training dataset: 13305 out of 15385 correct. Accuracy: 86.48. Loss: 0.426\n"
     ]
    },
    {
     "name": "stderr",
     "output_type": "stream",
     "text": [
      "\r",
      " 23%|███████████████████▎                                                               | 7/30 [04:41<15:18, 39.93s/it]"
     ]
    },
    {
     "name": "stdout",
     "output_type": "stream",
     "text": [
      "Testing dataset: 2213 out of 2715 correct. Accuracy: 81.51\n",
      "Epoch: 8\n",
      "Training dataset: 13526 out of 15385 correct. Accuracy: 87.917. Loss: 0.384\n"
     ]
    },
    {
     "name": "stderr",
     "output_type": "stream",
     "text": [
      "\r",
      " 27%|██████████████████████▏                                                            | 8/30 [05:21<14:36, 39.85s/it]"
     ]
    },
    {
     "name": "stdout",
     "output_type": "stream",
     "text": [
      "Testing dataset: 2401 out of 2715 correct. Accuracy: 88.435\n",
      "Epoch: 9\n",
      "Training dataset: 14027 out of 15385 correct. Accuracy: 91.173. Loss: 0.29\n"
     ]
    },
    {
     "name": "stderr",
     "output_type": "stream",
     "text": [
      "\r",
      " 30%|████████████████████████▉                                                          | 9/30 [06:01<13:54, 39.75s/it]"
     ]
    },
    {
     "name": "stdout",
     "output_type": "stream",
     "text": [
      "Testing dataset: 2393 out of 2715 correct. Accuracy: 88.14\n",
      "Epoch: 10\n",
      "Training dataset: 13779 out of 15385 correct. Accuracy: 89.561. Loss: 0.339\n"
     ]
    },
    {
     "name": "stderr",
     "output_type": "stream",
     "text": [
      "\r",
      " 33%|███████████████████████████▎                                                      | 10/30 [06:40<13:14, 39.70s/it]"
     ]
    },
    {
     "name": "stdout",
     "output_type": "stream",
     "text": [
      "Testing dataset: 2336 out of 2715 correct. Accuracy: 86.041\n",
      "Epoch: 11\n",
      "Training dataset: 14256 out of 15385 correct. Accuracy: 92.662. Loss: 0.249\n"
     ]
    },
    {
     "name": "stderr",
     "output_type": "stream",
     "text": [
      "\r",
      " 37%|██████████████████████████████                                                    | 11/30 [07:20<12:34, 39.73s/it]"
     ]
    },
    {
     "name": "stdout",
     "output_type": "stream",
     "text": [
      "Testing dataset: 2338 out of 2715 correct. Accuracy: 86.114\n",
      "Epoch: 12\n",
      "Training dataset: 14132 out of 15385 correct. Accuracy: 91.856. Loss: 0.274\n"
     ]
    },
    {
     "name": "stderr",
     "output_type": "stream",
     "text": [
      "\r",
      " 40%|████████████████████████████████▊                                                 | 12/30 [08:00<11:55, 39.74s/it]"
     ]
    },
    {
     "name": "stdout",
     "output_type": "stream",
     "text": [
      "Testing dataset: 2385 out of 2715 correct. Accuracy: 87.845\n",
      "Epoch: 13\n",
      "Training dataset: 14162 out of 15385 correct. Accuracy: 92.051. Loss: 0.262\n"
     ]
    },
    {
     "name": "stderr",
     "output_type": "stream",
     "text": [
      "\r",
      " 43%|███████████████████████████████████▌                                              | 13/30 [08:40<11:16, 39.81s/it]"
     ]
    },
    {
     "name": "stdout",
     "output_type": "stream",
     "text": [
      "Testing dataset: 2526 out of 2715 correct. Accuracy: 93.039\n",
      "Epoch: 14\n",
      "Training dataset: 14220 out of 15385 correct. Accuracy: 92.428. Loss: 0.25\n"
     ]
    },
    {
     "name": "stderr",
     "output_type": "stream",
     "text": [
      "\r",
      " 47%|██████████████████████████████████████▎                                           | 14/30 [09:19<10:34, 39.69s/it]"
     ]
    },
    {
     "name": "stdout",
     "output_type": "stream",
     "text": [
      "Testing dataset: 2414 out of 2715 correct. Accuracy: 88.913\n",
      "Epoch: 15\n",
      "Training dataset: 14430 out of 15385 correct. Accuracy: 93.793. Loss: 0.216\n"
     ]
    },
    {
     "name": "stderr",
     "output_type": "stream",
     "text": [
      "\r",
      " 50%|█████████████████████████████████████████                                         | 15/30 [09:59<09:55, 39.72s/it]"
     ]
    },
    {
     "name": "stdout",
     "output_type": "stream",
     "text": [
      "Testing dataset: 2281 out of 2715 correct. Accuracy: 84.015\n",
      "Epoch: 16\n",
      "Training dataset: 14077 out of 15385 correct. Accuracy: 91.498. Loss: 0.278\n"
     ]
    },
    {
     "name": "stderr",
     "output_type": "stream",
     "text": [
      "\r",
      " 53%|███████████████████████████████████████████▋                                      | 16/30 [10:39<09:16, 39.73s/it]"
     ]
    },
    {
     "name": "stdout",
     "output_type": "stream",
     "text": [
      "Testing dataset: 2153 out of 2715 correct. Accuracy: 79.3\n",
      "Epoch: 17\n",
      "Training dataset: 14467 out of 15385 correct. Accuracy: 94.033. Loss: 0.208\n"
     ]
    },
    {
     "name": "stderr",
     "output_type": "stream",
     "text": [
      "\r",
      " 57%|██████████████████████████████████████████████▍                                   | 17/30 [11:19<08:38, 39.87s/it]"
     ]
    },
    {
     "name": "stdout",
     "output_type": "stream",
     "text": [
      "Testing dataset: 2425 out of 2715 correct. Accuracy: 89.319\n",
      "Epoch: 18\n",
      "Training dataset: 14328 out of 15385 correct. Accuracy: 93.13. Loss: 0.233\n"
     ]
    },
    {
     "name": "stderr",
     "output_type": "stream",
     "text": [
      "\r",
      " 60%|█████████████████████████████████████████████████▏                                | 18/30 [11:59<07:58, 39.86s/it]"
     ]
    },
    {
     "name": "stdout",
     "output_type": "stream",
     "text": [
      "Testing dataset: 2003 out of 2715 correct. Accuracy: 73.775\n",
      "Epoch: 19\n",
      "Training dataset: 14343 out of 15385 correct. Accuracy: 93.227. Loss: 0.233\n"
     ]
    },
    {
     "name": "stderr",
     "output_type": "stream",
     "text": [
      "\r",
      " 63%|███████████████████████████████████████████████████▉                              | 19/30 [12:39<07:18, 39.83s/it]"
     ]
    },
    {
     "name": "stdout",
     "output_type": "stream",
     "text": [
      "Testing dataset: 2517 out of 2715 correct. Accuracy: 92.707\n",
      "Epoch: 20\n",
      "Training dataset: 14587 out of 15385 correct. Accuracy: 94.813. Loss: 0.183\n"
     ]
    },
    {
     "name": "stderr",
     "output_type": "stream",
     "text": [
      "\r",
      " 67%|██████████████████████████████████████████████████████▋                           | 20/30 [13:19<06:38, 39.87s/it]"
     ]
    },
    {
     "name": "stdout",
     "output_type": "stream",
     "text": [
      "Testing dataset: 2454 out of 2715 correct. Accuracy: 90.387\n",
      "Epoch: 21\n",
      "Training dataset: 14332 out of 15385 correct. Accuracy: 93.156. Loss: 0.241\n"
     ]
    },
    {
     "name": "stderr",
     "output_type": "stream",
     "text": [
      "\r",
      " 70%|█████████████████████████████████████████████████████████▍                        | 21/30 [13:58<05:58, 39.84s/it]"
     ]
    },
    {
     "name": "stdout",
     "output_type": "stream",
     "text": [
      "Testing dataset: 2042 out of 2715 correct. Accuracy: 75.212\n",
      "Epoch: 22\n",
      "Training dataset: 14588 out of 15385 correct. Accuracy: 94.82. Loss: 0.183\n"
     ]
    },
    {
     "name": "stderr",
     "output_type": "stream",
     "text": [
      "\r",
      " 73%|████████████████████████████████████████████████████████████▏                     | 22/30 [14:38<05:18, 39.83s/it]"
     ]
    },
    {
     "name": "stdout",
     "output_type": "stream",
     "text": [
      "Testing dataset: 2437 out of 2715 correct. Accuracy: 89.761\n",
      "Epoch: 23\n",
      "Training dataset: 14486 out of 15385 correct. Accuracy: 94.157. Loss: 0.204\n"
     ]
    },
    {
     "name": "stderr",
     "output_type": "stream",
     "text": [
      "\r",
      " 77%|██████████████████████████████████████████████████████████████▊                   | 23/30 [15:18<04:38, 39.79s/it]"
     ]
    },
    {
     "name": "stdout",
     "output_type": "stream",
     "text": [
      "Testing dataset: 2536 out of 2715 correct. Accuracy: 93.407\n",
      "Epoch: 24\n",
      "Training dataset: 14455 out of 15385 correct. Accuracy: 93.955. Loss: 0.216\n"
     ]
    },
    {
     "name": "stderr",
     "output_type": "stream",
     "text": [
      "\r",
      " 80%|█████████████████████████████████████████████████████████████████▌                | 24/30 [15:58<03:58, 39.77s/it]"
     ]
    },
    {
     "name": "stdout",
     "output_type": "stream",
     "text": [
      "Testing dataset: 2364 out of 2715 correct. Accuracy: 87.072\n",
      "Epoch: 25\n",
      "Training dataset: 14638 out of 15385 correct. Accuracy: 95.145. Loss: 0.175\n"
     ]
    },
    {
     "name": "stderr",
     "output_type": "stream",
     "text": [
      "\r",
      " 83%|████████████████████████████████████████████████████████████████████▎             | 25/30 [16:37<03:18, 39.76s/it]"
     ]
    },
    {
     "name": "stdout",
     "output_type": "stream",
     "text": [
      "Testing dataset: 2332 out of 2715 correct. Accuracy: 85.893\n",
      "Epoch: 26\n",
      "Training dataset: 14443 out of 15385 correct. Accuracy: 93.877. Loss: 0.216\n"
     ]
    },
    {
     "name": "stderr",
     "output_type": "stream",
     "text": [
      "\r",
      " 87%|███████████████████████████████████████████████████████████████████████           | 26/30 [17:17<02:38, 39.72s/it]"
     ]
    },
    {
     "name": "stdout",
     "output_type": "stream",
     "text": [
      "Testing dataset: 1756 out of 2715 correct. Accuracy: 64.678\n",
      "Epoch: 27\n",
      "Training dataset: 14484 out of 15385 correct. Accuracy: 94.144. Loss: 0.207\n"
     ]
    },
    {
     "name": "stderr",
     "output_type": "stream",
     "text": [
      "\r",
      " 90%|█████████████████████████████████████████████████████████████████████████▊        | 27/30 [17:57<01:59, 39.73s/it]"
     ]
    },
    {
     "name": "stdout",
     "output_type": "stream",
     "text": [
      "Testing dataset: 2329 out of 2715 correct. Accuracy: 85.783\n",
      "Epoch: 28\n",
      "Training dataset: 14866 out of 15385 correct. Accuracy: 96.627. Loss: 0.118\n"
     ]
    },
    {
     "name": "stderr",
     "output_type": "stream",
     "text": [
      "\r",
      " 93%|████████████████████████████████████████████████████████████████████████████▌     | 28/30 [18:36<01:19, 39.64s/it]"
     ]
    },
    {
     "name": "stdout",
     "output_type": "stream",
     "text": [
      "Testing dataset: 2532 out of 2715 correct. Accuracy: 93.26\n",
      "Epoch: 29\n",
      "Training dataset: 14372 out of 15385 correct. Accuracy: 93.416. Loss: 0.234\n"
     ]
    },
    {
     "name": "stderr",
     "output_type": "stream",
     "text": [
      "\r",
      " 97%|███████████████████████████████████████████████████████████████████████████████▎  | 29/30 [19:16<00:39, 39.67s/it]"
     ]
    },
    {
     "name": "stdout",
     "output_type": "stream",
     "text": [
      "Testing dataset: 2107 out of 2715 correct. Accuracy: 77.606\n",
      "Epoch: 30\n",
      "Training dataset: 14413 out of 15385 correct. Accuracy: 93.682. Loss: 0.219\n"
     ]
    },
    {
     "name": "stderr",
     "output_type": "stream",
     "text": [
      "100%|██████████████████████████████████████████████████████████████████████████████████| 30/30 [19:56<00:00, 39.87s/it]"
     ]
    },
    {
     "name": "stdout",
     "output_type": "stream",
     "text": [
      "Testing dataset: 2517 out of 2715 correct. Accuracy: 92.707\n",
      "Finished\n"
     ]
    },
    {
     "name": "stderr",
     "output_type": "stream",
     "text": [
      "\n"
     ]
    }
   ],
   "source": [
    "train_nn(resnet18, train_loader, test_loader, loss_func, optimizer, n_epochs=TRAIN_EPOCHS)"
   ]
  },
  {
   "cell_type": "code",
   "execution_count": 10,
   "id": "0d936299",
   "metadata": {},
   "outputs": [
    {
     "name": "stdout",
     "output_type": "stream",
     "text": [
      "Best Epoch: 23, Best Accuracy: 93.407\n"
     ]
    }
   ],
   "source": [
    "checkpoint = torch.load(CHECKPOINT_PATH)\n",
    "print(f\"Best Epoch: {checkpoint['epoch']}, Best Accuracy: {round(checkpoint['best accuracy'], 3)}\")"
   ]
  },
  {
   "cell_type": "code",
   "execution_count": 11,
   "id": "291280db",
   "metadata": {},
   "outputs": [],
   "source": [
    "resnet18 = models.resnet18(pretrained=False)\n",
    "num_features = resnet18.fc.in_features\n",
    "resnet18.fc = nn.Linear(num_features, NUM_CLASSES)\n",
    "resnet18.load_state_dict(checkpoint['model'])\n",
    "\n",
    "dummy_input = torch.randn(1, 3, 256, 256, dtype=torch.float32)\n",
    "torch.onnx.export(\n",
    "    resnet18, \n",
    "    dummy_input, \n",
    "    ONNX_SAVE_PATH,\n",
    "    verbose=False,\n",
    "    export_params=True,\n",
    "    opset_version=11,\n",
    "    input_names = ['image'],\n",
    "    output_names = ['pred']\n",
    ")"
   ]
  },
  {
   "cell_type": "code",
   "execution_count": null,
   "id": "662404db",
   "metadata": {},
   "outputs": [],
   "source": []
  }
 ],
 "metadata": {
  "kernelspec": {
   "display_name": "Python 3 (ipykernel)",
   "language": "python",
   "name": "python3"
  },
  "language_info": {
   "codemirror_mode": {
    "name": "ipython",
    "version": 3
   },
   "file_extension": ".py",
   "mimetype": "text/x-python",
   "name": "python",
   "nbconvert_exporter": "python",
   "pygments_lexer": "ipython3",
   "version": "3.9.12"
  }
 },
 "nbformat": 4,
 "nbformat_minor": 5
}
