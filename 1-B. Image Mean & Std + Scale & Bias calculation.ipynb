{
 "cells": [
  {
   "cell_type": "code",
   "execution_count": 1,
   "id": "7b23c895",
   "metadata": {},
   "outputs": [],
   "source": [
    "import os\n",
    "import torch\n",
    "import torchvision\n",
    "import torchvision.transforms as transforms"
   ]
  },
  {
   "cell_type": "code",
   "execution_count": 2,
   "id": "1aa1b7c2",
   "metadata": {},
   "outputs": [],
   "source": [
    "IMAGE_PATH = r\"C:\\Users\\offco\\Documents\\Dev_Projects\\BookCoverClassifier_Compact\\Datasets\\Augment\""
   ]
  },
  {
   "cell_type": "code",
   "execution_count": 3,
   "id": "74544019",
   "metadata": {},
   "outputs": [],
   "source": [
    "transform_images = transforms.Compose([transforms.Resize((256, 256)), transforms.ToTensor()])\n",
    "image_dataset = torchvision.datasets.ImageFolder(root=IMAGE_PATH, transform=transform_images)\n",
    "image_loader = torch.utils.data.DataLoader(dataset=image_dataset, batch_size=32, shuffle=False)"
   ]
  },
  {
   "cell_type": "code",
   "execution_count": 4,
   "id": "e394c682",
   "metadata": {},
   "outputs": [],
   "source": [
    "def get_mean_and_std(loader):\n",
    "    mean, std = 0., 0.\n",
    "    images_count = 0\n",
    "    \n",
    "    for images, _ in loader:\n",
    "        image_count_per_batch = images.size(0)\n",
    "        images = images.view(image_count_per_batch, images.size(1), -1)\n",
    "        \n",
    "        mean += images.mean(2).sum(0)\n",
    "        std += images.std(2).sum(0)\n",
    "        images_count += image_count_per_batch\n",
    "        \n",
    "    mean /= images_count\n",
    "    std /= images_count\n",
    "    \n",
    "    return [mean, std]"
   ]
  },
  {
   "cell_type": "code",
   "execution_count": 5,
   "id": "5c9b48a6",
   "metadata": {},
   "outputs": [
    {
     "name": "stdout",
     "output_type": "stream",
     "text": [
      "Mean: tensor([0.3852, 0.3434, 0.3142]), Std: tensor([0.3134, 0.2889, 0.2685])\n"
     ]
    }
   ],
   "source": [
    "mean, std = get_mean_and_std(image_loader)\n",
    "print(f\"Mean: {mean}, Std: {std}\")"
   ]
  },
  {
   "cell_type": "code",
   "execution_count": 6,
   "id": "e2d1fdae",
   "metadata": {},
   "outputs": [
    {
     "name": "stdout",
     "output_type": "stream",
     "text": [
      "Scale: [0.012511289201356123, 0.013572151011716225, 0.01460418752384945], Bias: [-1.2288008555741343, -1.1885888980170278, -1.1701963872767576]\n"
     ]
    }
   ],
   "source": [
    "mean, std = mean.tolist(), std.tolist()\n",
    "scale, bias = [1.0/255/s for s in std], [-m/s for m, s in zip(mean, std)]\n",
    "print(f\"Scale: {scale}, Bias: {bias}\")"
   ]
  }
 ],
 "metadata": {
  "kernelspec": {
   "display_name": "Python 3 (ipykernel)",
   "language": "python",
   "name": "python3"
  },
  "language_info": {
   "codemirror_mode": {
    "name": "ipython",
    "version": 3
   },
   "file_extension": ".py",
   "mimetype": "text/x-python",
   "name": "python",
   "nbconvert_exporter": "python",
   "pygments_lexer": "ipython3",
   "version": "3.9.12"
  }
 },
 "nbformat": 4,
 "nbformat_minor": 5
}
